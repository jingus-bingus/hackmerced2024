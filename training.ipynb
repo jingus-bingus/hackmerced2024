{
 "cells": [
  {
   "cell_type": "code",
   "execution_count": 2,
   "metadata": {},
   "outputs": [],
   "source": [
    "import matplotlib.pyplot as plt\n",
    "import numpy as np\n",
    "\n",
    "from sklearn.svm import SVR\n",
    "from sklearn.linear_model import LinearRegression\n",
    "from sklearn.model_selection import train_test_split\n",
    "from sklearn.model_selection import GridSearchCV, RandomizedSearchCV\n",
    "from sklearn.metrics import make_scorer, mean_squared_error\n",
    "from sklearn.preprocessing import normalize\n",
    "\n",
    "def gridSearch(model, parameters, x, y):\n",
    "    scorer = make_scorer(mean_squared_error)\n",
    "    model = GridSearchCV(model, param_grid=parameters, scoring=scorer)\n",
    "    #model = grid.fit(x, y)\n",
    "    print(\"Best score: \", model.best_score_)\n",
    "    print(\"Best parameters for search: \", model.best_params_)\n",
    "    return model\n",
    "\n",
    "def randomSearch(model, parameters, x, y):\n",
    "    scorer = make_scorer(mean_squared_error)\n",
    "    model = RandomizedSearchCV(model, scoring=scorer, param_distributions=parameters)\n",
    "    #model = rSearch.fit(x, y)\n",
    "    print(\"Best score: \", model.best_score_)\n",
    "    print(\"Best parameters: \", model.best_params_)\n",
    "    return model\n",
    "\n",
    "def plotResults(x, y, x_label, y_label, title):\n",
    "    plt.plot(x, y)\n",
    "    plt.title(title, fontsize=18)\n",
    "    plt.xlabel(x_label, fontsize=16)\n",
    "    plt.ylabel(y_label, fontsize=16)\n",
    "    plt.grid('on')\n",
    "    title+=\".png\"\n",
    "    path = \"graphs_beta\"\n",
    "    path += title\n",
    "    plt.savefig(path)"
   ]
  },
  {
   "cell_type": "code",
   "execution_count": 4,
   "metadata": {},
   "outputs": [],
   "source": [
    "#data processing here\n",
    "header, raw_data = np.vsplit(data, [1])\n",
    "raw_x, raw_y = np.hsplit(raw_data, [2])\n",
    "raw_x_veg, raw_x_rain = np.hsplit(raw_x, [1])\n",
    "data_train, data_test = train_test_split(raw_data, test_size=0.20)\n",
    "x_test, y_test = np.hsplit(data_test, [2])\n",
    "x_train, y_train = np.hsplit(data_train, [2])"
   ]
  },
  {
   "cell_type": "code",
   "execution_count": null,
   "metadata": {},
   "outputs": [],
   "source": [
    "plotResults(raw_x_veg, raw_y, \"Prior Vegitation\", \"Vegitation Lost\", \"Prior Vegitation vs Vegitation Lost\")\n",
    "plotResults(raw_x_rain, raw_y, \"Precipitation\", \"Vegitation Lost\", \"Precipitation vs Vegitation Lost\")"
   ]
  },
  {
   "cell_type": "code",
   "execution_count": null,
   "metadata": {},
   "outputs": [],
   "source": [
    "cValues = np.logspace(-3, 3, 7, dtype=float)\n",
    "parameters = {\"c\": cValues}\n",
    "svr = SVR(kernel=\"linear\")\n",
    "svrLinearModel = gridSearch(svr, parameters, x_train, y_train)"
   ]
  },
  {
   "cell_type": "code",
   "execution_count": null,
   "metadata": {},
   "outputs": [],
   "source": [
    "print(\"Best parameters for svr\")\n",
    "cValues = np.logspace(-3, 3, 7, dtype=float)\n",
    "parameters = {\"c\": cValues}\n",
    "svr = SVR(kernel=\"poly\")\n",
    "svrPolyModel = gridSearch(svr, parameters, x_train, y_train)"
   ]
  },
  {
   "cell_type": "code",
   "execution_count": null,
   "metadata": {},
   "outputs": [],
   "source": [
    "mean_scores = svrLinearModel.cv_results_['mean_test_score']\n",
    "mean_scores = np.delete(mean_scores, [0,1])\n",
    "x_cValues = np.delete(cValues, [0,1])\n",
    "plotResults(x_cValues, mean_scores, \"c values\", \"Scores\", \"Linear: c values vs mean score\")"
   ]
  }
 ],
 "metadata": {
  "kernelspec": {
   "display_name": "Python 3",
   "language": "python",
   "name": "python3"
  },
  "language_info": {
   "codemirror_mode": {
    "name": "ipython",
    "version": 3
   },
   "file_extension": ".py",
   "mimetype": "text/x-python",
   "name": "python",
   "nbconvert_exporter": "python",
   "pygments_lexer": "ipython3",
   "version": "3.10.12"
  }
 },
 "nbformat": 4,
 "nbformat_minor": 2
}
